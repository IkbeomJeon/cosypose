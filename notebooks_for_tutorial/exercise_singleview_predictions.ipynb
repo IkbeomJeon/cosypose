{
 "cells": [
  {
   "cell_type": "markdown",
   "metadata": {},
   "source": [
    "# <center>A tutorial on 6D object pose estimation for AR application </center>\n",
    "\n",
    "\n",
    "<div style=\"text-align: right\"> Ikbeom Jeon (TA) (ikbeomjeon@kaist.ac.k) </div> \n",
    "<div style=\"text-align: right\"> Vincent Lepetit (vincent.lepetit@enpc.fr) </div>  \n",
    "<br>\n",
    "<div style=\"text-align: right\"> Last update: 14/07/2021</div>\n",
    "    \n",
    "\n",
    "\n",
    "### Description\n",
    "We introduce~\n",
    "\n",
    "### Citation\n",
    "We have referenced the original code needed for writing this tutorial here.\n",
    "https://github.com/ylabbe/cosypose\n",
    "\n",
    "If you use the code in your research, please cite the paper:\n",
    "\n",
    "```\n",
    "@inproceedings{labbe2020,\n",
    "title= {CosyPose: Consistent multi-view multi-object 6D pose estimation}\n",
    "author={Y. {Labbe} and J. {Carpentier} and M. {Aubry} and J. {Sivic}},\n",
    "booktitle={Proceedings of the European Conference on Computer Vision (ECCV)},\n",
    "year={2020}}\n",
    "```\n"
   ]
  },
  {
   "cell_type": "markdown",
   "metadata": {},
   "source": [
    "## 0. Load required packages"
   ]
  },
  {
   "cell_type": "code",
   "execution_count": null,
   "metadata": {
    "pycharm": {
     "name": "#%% import package\n"
    }
   },
   "outputs": [],
   "source": [
    "#%load_ext autoreload\n",
    "#%autoreload 2\n",
    "\n",
    "import pickle as pkl \n",
    "import numpy as np\n",
    "import json\n",
    "import pandas as pd\n",
    "import torch\n",
    "import torch.multiprocessing\n",
    "\n",
    "from cosypose.lib3d import Transform\n",
    "from cosypose.config import LOCAL_DATA_DIR\n",
    "from cosypose.datasets.datasets_cfg import make_scene_dataset, make_object_dataset\n",
    "import cosypose.utils.tensor_collection as tc"
   ]
  },
  {
   "cell_type": "markdown",
   "metadata": {
    "collapsed": true,
    "pycharm": {
     "name": "#%% md\n"
    }
   },
   "source": [
    "## 1. Load images and 3D models"
   ]
  },
  {
   "cell_type": "code",
   "execution_count": null,
   "metadata": {
    "pycharm": {
     "name": "#%%\n"
    }
   },
   "outputs": [],
   "source": [
    "object_set = 'ycbv'\n",
    "\n",
    "# Load dataset\n",
    "scene_ds = make_scene_dataset('ycbv.test.keyframes')\n",
    "\n"
   ]
  },
  {
   "cell_type": "code",
   "execution_count": null,
   "metadata": {},
   "outputs": [],
   "source": []
  },
  {
   "cell_type": "markdown",
   "metadata": {
    "pycharm": {
     "name": "#%% md\n"
    }
   },
   "source": [
    "## 2. Load results of 2D detection and initial 6D pose estimation from file\n",
    "\n"
   ]
  },
  {
   "cell_type": "code",
   "execution_count": null,
   "metadata": {
    "pycharm": {
     "name": "#%%\n"
    }
   },
   "outputs": [],
   "source": [
    "def load_posecnn_results():\n",
    "    results_path = LOCAL_DATA_DIR / 'saved_detections' / 'ycbv_posecnn.pkl'\n",
    "    results = pkl.loads(results_path.read_bytes())\n",
    "    infos, poses, bboxes = [], [], []\n",
    "\n",
    "    l_offsets = (LOCAL_DATA_DIR / 'bop_datasets/ycbv' / 'offsets.txt').read_text().strip().split('\\n')\n",
    "    ycb_offsets = dict()\n",
    "    for l_n in l_offsets:\n",
    "        obj_id, offset = l_n[:2], l_n[3:]\n",
    "        obj_id = int(obj_id)\n",
    "        offset = np.array(json.loads(offset)) * 0.001\n",
    "        ycb_offsets[obj_id] = offset\n",
    "\n",
    "    def mat_from_qt(qt):\n",
    "        wxyz = qt[:4].copy().tolist()\n",
    "        xyzw = [*wxyz[1:], wxyz[0]]\n",
    "        t = qt[4:].copy()\n",
    "        return Transform(xyzw, t)\n",
    "\n",
    "    for scene_view_str, result in results.items():\n",
    "        scene_id, view_id = scene_view_str.split('/')\n",
    "        scene_id, view_id = int(scene_id), int(view_id)\n",
    "        n_dets = result['rois'].shape[0]\n",
    "        for n in range(n_dets):\n",
    "            obj_id = result['rois'][:, 1].astype(np.int)[n]\n",
    "            label = f'obj_{obj_id:06d}'\n",
    "            infos.append(dict(\n",
    "                scene_id=scene_id,\n",
    "                view_id=view_id,\n",
    "                score=result['rois'][n, 1],\n",
    "                label=label,\n",
    "            ))\n",
    "            bboxes.append(result['rois'][n, 2:6])\n",
    "            pose = mat_from_qt(result['poses'][n])\n",
    "            offset = ycb_offsets[obj_id]\n",
    "            pose = pose * Transform((0, 0, 0, 1), offset).inverse()\n",
    "            poses.append(pose.toHomogeneousMatrix())\n",
    "\n",
    "    data = tc.PandasTensorCollection(\n",
    "        infos=pd.DataFrame(infos),\n",
    "        poses=torch.as_tensor(np.stack(poses)).float(),\n",
    "        bboxes=torch.as_tensor(np.stack(bboxes)).float(),\n",
    "    ).cpu()\n",
    "    return data\n",
    "\n",
    "posecnn_detections = load_posecnn_results()\n"
   ]
  },
  {
   "cell_type": "markdown",
   "metadata": {},
   "source": [
    "You can visulize it in this way\n"
   ]
  },
  {
   "cell_type": "code",
   "execution_count": null,
   "metadata": {},
   "outputs": [],
   "source": []
  },
  {
   "cell_type": "markdown",
   "metadata": {
    "pycharm": {
     "name": "#%% md\n"
    }
   },
   "source": [
    "## 3. Get better result using refinement network"
   ]
  },
  {
   "cell_type": "code",
   "execution_count": null,
   "metadata": {},
   "outputs": [],
   "source": []
  },
  {
   "cell_type": "code",
   "execution_count": null,
   "metadata": {
    "pycharm": {
     "name": "#%%\n"
    }
   },
   "outputs": [],
   "source": [
    "refiner_run_id = 'ycbv-refiner-finetune--251020'\n",
    "n_coarse_iterations = 0\n",
    "n_refiner_iterations = 2\n"
   ]
  },
  {
   "cell_type": "markdown",
   "metadata": {
    "pycharm": {
     "name": "#%% md\n"
    }
   },
   "source": [
    "## 4. 3D data augmentation\n",
    "\n",
    "\n",
    "\n",
    "\n",
    "\n"
   ]
  },
  {
   "cell_type": "code",
   "execution_count": null,
   "metadata": {},
   "outputs": [],
   "source": []
  }
 ],
 "metadata": {
  "kernelspec": {
   "display_name": "Python 3",
   "language": "python",
   "name": "python3"
  },
  "language_info": {
   "codemirror_mode": {
    "name": "ipython",
    "version": 3
   },
   "file_extension": ".py",
   "mimetype": "text/x-python",
   "name": "python",
   "nbconvert_exporter": "python",
   "pygments_lexer": "ipython3",
   "version": "3.7.6"
  }
 },
 "nbformat": 4,
 "nbformat_minor": 1
}
