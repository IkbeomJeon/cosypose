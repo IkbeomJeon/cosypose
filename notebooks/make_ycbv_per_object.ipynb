{
 "cells": [
  {
   "cell_type": "code",
   "execution_count": null,
   "metadata": {},
   "outputs": [],
   "source": [
    "%load_ext autoreload\n",
    "%autoreload 2\n",
    "import numpy as np\n",
    "import pandas as pd\n",
    "import torch\n",
    "from cosypose.config import LOCAL_DATA_DIR\n",
    "\n",
    "friendly_names = (LOCAL_DATA_DIR / 'bop_datasets/ycbv/ycbv_friendly_names.txt').read_text()\n",
    "friendly_names = {str(int(l.split(' ')[0])): l.split(' ')[1] for l in friendly_names.split('\\n')[:-1]}\n",
    "\n",
    "def make_errors_dict(key, result_id):\n",
    "    x = torch.load(LOCAL_DATA_DIR / 'results' / result_id / 'results.pth.tar')\n",
    "    eval_df = x['dfs']['posecnn_init/refiner/iteration=2']\n",
    "    scores = eval_df[f'{key}_ntop=1_matching=CLASS']['gt']['AUC/objects']\n",
    "    object_names = scores.objects.values\n",
    "    this_friendly_names = [friendly_names[str(int(x.split('_')[1]))] for x in object_names]\n",
    "    this_scores = {this_friendly_names[n]: scores.values[n] for n in range(len(scores))}\n",
    "    return this_scores\n",
    "\n",
    "\n",
    "def make_summary_df(result_id):\n",
    "    metrics = dict()\n",
    "    metrics_k = ['ADD', 'ADD-S', 'ADD(-S)']\n",
    "    for k in metrics_k:\n",
    "        scores = make_errors_dict(k, result_id)\n",
    "        metrics[k] = scores\n",
    "    names = list(metrics[metrics_k[0]].keys())\n",
    "    names += ['mean']\n",
    "    df = {'object': names}\n",
    "    for k in metrics_k:\n",
    "        df[k] = [metrics[k][o] * 100 if o != 'mean' else np.mean(list(metrics[k].values())) * 100 for o in names]\n",
    "    df = pd.DataFrame(df)\n",
    "    return pd.DataFrame(df).set_index('object')\n",
    "\n",
    "result_id = 'ycbv-n_views=1--5154971130'\n",
    "df = make_summary_df(result_id)\n",
    "\n",
    "pd.options.display.float_format = '{:,.1f}'.format\n",
    "df"
   ]
  }
 ],
 "metadata": {
  "kernelspec": {
   "display_name": "Python 3",
   "language": "python",
   "name": "python3"
  },
  "language_info": {
   "codemirror_mode": {
    "name": "ipython",
    "version": 3
   },
   "file_extension": ".py",
   "mimetype": "text/x-python",
   "name": "python",
   "nbconvert_exporter": "python",
   "pygments_lexer": "ipython3",
   "version": "3.7.6"
  }
 },
 "nbformat": 4,
 "nbformat_minor": 4
}
